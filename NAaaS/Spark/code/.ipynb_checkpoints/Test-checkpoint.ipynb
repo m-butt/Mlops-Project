{
 "cells": [
  {
   "cell_type": "code",
   "execution_count": null,
   "id": "eab95fa8",
   "metadata": {},
   "outputs": [],
   "source": [
    "from pyspark import SparkConf, SparkContext\n",
    "\n",
    "print(\"Hello\")\n",
    "# Configure the connection to the Spark cluster\n",
    "conf = SparkConf().setAppName(\"My App2\").setMaster(\"spark://spark-master:7077\")\n",
    "print(\"world\")\n",
    "# Create a SparkContext object\n",
    "sc = SparkContext(conf=conf)\n",
    "print(\"Yelo\")\n",
    "print(sc)"
   ]
  },
  {
   "cell_type": "code",
   "execution_count": null,
   "id": "3524d2b3",
   "metadata": {},
   "outputs": [],
   "source": [
    "\n",
    "# Create a list of numbers\n",
    "numbers = [1, 2, 3, 4, 5]\n",
    "\n",
    "# Convert the list to a Spark RDD\n",
    "numbers_rdd = sc.parallelize(numbers)\n",
    "\n",
    "# Calculate the sum of the numbers in the RDD\n",
    "sums = numbers_rdd.sum()\n",
    "print(\"Pokemon\")\n",
    "# Print the sum\n",
    "print(sums)\n",
    "\n",
    "# Stop the SparkContext\n",
    "sc.stop()\n"
   ]
  },
  {
   "cell_type": "code",
   "execution_count": null,
   "id": "96e92c54",
   "metadata": {},
   "outputs": [],
   "source": []
  }
 ],
 "metadata": {
  "kernelspec": {
   "display_name": "Python 3",
   "language": "python",
   "name": "python3"
  },
  "language_info": {
   "codemirror_mode": {
    "name": "ipython",
    "version": 3
   },
   "file_extension": ".py",
   "mimetype": "text/x-python",
   "name": "python",
   "nbconvert_exporter": "python",
   "pygments_lexer": "ipython3",
   "version": "3.8.8"
  }
 },
 "nbformat": 4,
 "nbformat_minor": 5
}
